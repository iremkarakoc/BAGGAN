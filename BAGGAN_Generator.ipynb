{
  "nbformat": 4,
  "nbformat_minor": 0,
  "metadata": {
    "colab": {
      "provenance": [],
      "machine_shape": "hm",
      "gpuType": "T4"
    },
    "kernelspec": {
      "name": "python3",
      "display_name": "Python 3"
    },
    "language_info": {
      "name": "python"
    },
    "accelerator": "GPU"
  },
  "cells": [
    {
      "cell_type": "code",
      "execution_count": null,
      "metadata": {
        "colab": {
          "base_uri": "https://localhost:8080/"
        },
        "id": "AQdZRyPwaiGx",
        "outputId": "28dec19e-f6b5-44bf-f342-17441437189b"
      },
      "outputs": [
        {
          "output_type": "stream",
          "name": "stdout",
          "text": [
            "GPU 0: Tesla T4 (UUID: GPU-cc7011c7-c3e1-cc8b-15bd-5e15673615a1)\n"
          ]
        }
      ],
      "source": [
        "!nvidia-smi -L"
      ]
    },
    {
      "cell_type": "code",
      "source": [
        "!python --version"
      ],
      "metadata": {
        "colab": {
          "base_uri": "https://localhost:8080/"
        },
        "id": "MElpVFz72oMt",
        "outputId": "1d73d474-4b01-4d70-fb43-4b034ab0b18a"
      },
      "execution_count": null,
      "outputs": [
        {
          "output_type": "stream",
          "name": "stdout",
          "text": [
            "Python 3.10.11\n"
          ]
        }
      ]
    },
    {
      "cell_type": "code",
      "source": [
        "!sudo update-alternatives --config python3"
      ],
      "metadata": {
        "id": "vq4U8dyv8bEM",
        "colab": {
          "base_uri": "https://localhost:8080/"
        },
        "outputId": "be3b28ed-6f14-4784-ca8f-f89aa54521ba"
      },
      "execution_count": null,
      "outputs": [
        {
          "output_type": "stream",
          "name": "stdout",
          "text": [
            "There are 2 choices for the alternative python3 (providing /usr/bin/python3).\n",
            "\n",
            "  Selection    Path                 Priority   Status\n",
            "------------------------------------------------------------\n",
            "* 0            /usr/bin/python3.10   2         auto mode\n",
            "  1            /usr/bin/python3.10   2         manual mode\n",
            "  2            /usr/bin/python3.8    1         manual mode\n",
            "\n",
            "Press <enter> to keep the current choice[*], or type selection number: 2\n",
            "update-alternatives: using /usr/bin/python3.8 to provide /usr/bin/python3 (python3) in manual mode\n"
          ]
        }
      ]
    },
    {
      "cell_type": "code",
      "source": [
        "!python --version"
      ],
      "metadata": {
        "id": "zktyzk3n9SQE",
        "colab": {
          "base_uri": "https://localhost:8080/"
        },
        "outputId": "b278e498-977a-4ae9-ae87-eebd6e36c533"
      },
      "execution_count": null,
      "outputs": [
        {
          "output_type": "stream",
          "name": "stdout",
          "text": [
            "Python 3.8.10\n"
          ]
        }
      ]
    },
    {
      "cell_type": "code",
      "source": [
        "!sudo apt install python3-pip\n"
      ],
      "metadata": {
        "id": "XfQ2-8CLNRiz",
        "colab": {
          "base_uri": "https://localhost:8080/"
        },
        "outputId": "5d0e2e62-d9ce-4edc-ade5-df65ec8139e3"
      },
      "execution_count": null,
      "outputs": [
        {
          "output_type": "stream",
          "name": "stdout",
          "text": [
            "Reading package lists... Done\n",
            "Building dependency tree       \n",
            "Reading state information... Done\n",
            "python3-pip is already the newest version (20.0.2-5ubuntu1.9).\n",
            "0 upgraded, 0 newly installed, 0 to remove and 46 not upgraded.\n"
          ]
        }
      ]
    },
    {
      "cell_type": "code",
      "source": [
        "!python3 -m pip uninstall torch -y\n",
        "!python3 -m pip install click requests tqdm pyspng ninja imageio-ffmpeg==0.4.3\n",
        "!python3 -m pip install torch==1.7.1+cu110 torchvision==0.8.2+cu110 torchaudio==0.7.2 -f https://download.pytorch.org/whl/torch_stable.html"
      ],
      "metadata": {
        "id": "oDFNU-Uh1sBa",
        "colab": {
          "base_uri": "https://localhost:8080/"
        },
        "outputId": "1b61b8c8-db5b-45e5-ec86-cd93163cf9ba"
      },
      "execution_count": null,
      "outputs": [
        {
          "output_type": "stream",
          "name": "stdout",
          "text": [
            "\u001b[33mWARNING: Skipping torch as it is not installed.\u001b[0m\n",
            "Looking in indexes: https://pypi.org/simple, https://us-python.pkg.dev/colab-wheels/public/simple/\n",
            "Collecting click\n",
            "  Downloading click-8.1.3-py3-none-any.whl (96 kB)\n",
            "\u001b[K     |████████████████████████████████| 96 kB 4.5 MB/s \n",
            "\u001b[?25hCollecting requests\n",
            "  Downloading requests-2.31.0-py3-none-any.whl (62 kB)\n",
            "\u001b[K     |████████████████████████████████| 62 kB 1.3 MB/s \n",
            "\u001b[?25hCollecting tqdm\n",
            "  Downloading tqdm-4.65.0-py3-none-any.whl (77 kB)\n",
            "\u001b[K     |████████████████████████████████| 77 kB 6.0 MB/s \n",
            "\u001b[?25hCollecting pyspng\n",
            "  Downloading pyspng-0.1.1-cp38-cp38-manylinux_2_17_x86_64.manylinux2014_x86_64.whl (205 kB)\n",
            "\u001b[K     |████████████████████████████████| 205 kB 87.4 MB/s \n",
            "\u001b[?25hCollecting ninja\n",
            "  Downloading ninja-1.11.1-py2.py3-none-manylinux_2_12_x86_64.manylinux2010_x86_64.whl (145 kB)\n",
            "\u001b[K     |████████████████████████████████| 145 kB 117.4 MB/s \n",
            "\u001b[?25hCollecting imageio-ffmpeg==0.4.3\n",
            "  Downloading imageio_ffmpeg-0.4.3-py3-none-manylinux2010_x86_64.whl (26.9 MB)\n",
            "\u001b[K     |████████████████████████████████| 26.9 MB 1.1 MB/s \n",
            "\u001b[?25hCollecting urllib3<3,>=1.21.1\n",
            "  Downloading urllib3-2.0.3-py3-none-any.whl (123 kB)\n",
            "\u001b[K     |████████████████████████████████| 123 kB 98.9 MB/s \n",
            "\u001b[?25hCollecting idna<4,>=2.5\n",
            "  Downloading idna-3.4-py3-none-any.whl (61 kB)\n",
            "\u001b[K     |████████████████████████████████| 61 kB 114 kB/s \n",
            "\u001b[?25hCollecting certifi>=2017.4.17\n",
            "  Downloading certifi-2023.5.7-py3-none-any.whl (156 kB)\n",
            "\u001b[K     |████████████████████████████████| 156 kB 83.3 MB/s \n",
            "\u001b[?25hCollecting charset-normalizer<4,>=2\n",
            "  Downloading charset_normalizer-3.1.0-cp38-cp38-manylinux_2_17_x86_64.manylinux2014_x86_64.whl (195 kB)\n",
            "\u001b[K     |████████████████████████████████| 195 kB 106.1 MB/s \n",
            "\u001b[?25hCollecting numpy\n",
            "  Downloading numpy-1.24.3-cp38-cp38-manylinux_2_17_x86_64.manylinux2014_x86_64.whl (17.3 MB)\n",
            "\u001b[K     |████████████████████████████████| 17.3 MB 68.2 MB/s \n",
            "\u001b[?25hInstalling collected packages: click, urllib3, idna, certifi, charset-normalizer, requests, tqdm, numpy, pyspng, ninja, imageio-ffmpeg\n",
            "Successfully installed certifi-2023.5.7 charset-normalizer-3.1.0 click-8.1.3 idna-3.4 imageio-ffmpeg-0.4.3 ninja-1.11.1 numpy-1.24.3 pyspng-0.1.1 requests-2.31.0 tqdm-4.65.0 urllib3-2.0.3\n",
            "Looking in indexes: https://pypi.org/simple, https://us-python.pkg.dev/colab-wheels/public/simple/\n",
            "Looking in links: https://download.pytorch.org/whl/torch_stable.html\n",
            "Collecting torch==1.7.1+cu110\n",
            "  Downloading https://download.pytorch.org/whl/cu110/torch-1.7.1%2Bcu110-cp38-cp38-linux_x86_64.whl (1156.8 MB)\n",
            "\u001b[K     |████████████████████████████████| 1156.8 MB 13 kB/s \n",
            "\u001b[?25hCollecting torchvision==0.8.2+cu110\n",
            "  Downloading https://download.pytorch.org/whl/cu110/torchvision-0.8.2%2Bcu110-cp38-cp38-linux_x86_64.whl (12.9 MB)\n",
            "\u001b[K     |████████████████████████████████| 12.9 MB 100.2 MB/s \n",
            "\u001b[?25hCollecting torchaudio==0.7.2\n",
            "  Downloading torchaudio-0.7.2-cp38-cp38-manylinux1_x86_64.whl (7.6 MB)\n",
            "\u001b[K     |████████████████████████████████| 7.6 MB 31.3 MB/s \n",
            "\u001b[?25hCollecting typing-extensions\n",
            "  Downloading typing_extensions-4.6.3-py3-none-any.whl (31 kB)\n",
            "Requirement already satisfied: numpy in /usr/local/lib/python3.8/dist-packages (from torch==1.7.1+cu110) (1.24.3)\n",
            "Collecting pillow>=4.1.1\n",
            "  Downloading Pillow-9.5.0-cp38-cp38-manylinux_2_17_x86_64.manylinux2014_x86_64.whl (3.3 MB)\n",
            "\u001b[K     |████████████████████████████████| 3.3 MB 54.8 MB/s \n",
            "\u001b[?25hInstalling collected packages: typing-extensions, torch, pillow, torchvision, torchaudio\n",
            "Successfully installed pillow-9.5.0 torch-1.7.1+cu110 torchaudio-0.7.2 torchvision-0.8.2+cu110 typing-extensions-4.6.3\n"
          ]
        }
      ]
    },
    {
      "cell_type": "code",
      "source": [
        "from google.colab import drive\n",
        "drive.mount('/content/drive')"
      ],
      "metadata": {
        "colab": {
          "base_uri": "https://localhost:8080/"
        },
        "id": "U5uVbpdP2oWl",
        "outputId": "5dbddd02-2c0a-474a-aff4-ed7c1f7d227f"
      },
      "execution_count": null,
      "outputs": [
        {
          "output_type": "stream",
          "name": "stdout",
          "text": [
            "Mounted at /content/drive\n"
          ]
        }
      ]
    },
    {
      "cell_type": "code",
      "source": [
        "!pip install opensimplex\n",
        "!pip install scipy\n",
        "!pip install click requests tqdm pyspng ninja imageio-ffmpeg==0.4.3"
      ],
      "metadata": {
        "colab": {
          "base_uri": "https://localhost:8080/"
        },
        "id": "WVIym6mX9KGn",
        "outputId": "0191c5fc-7731-4f4f-eb61-a4efb7cd6df1"
      },
      "execution_count": null,
      "outputs": [
        {
          "output_type": "stream",
          "name": "stdout",
          "text": [
            "Looking in indexes: https://pypi.org/simple, https://us-python.pkg.dev/colab-wheels/public/simple/\n",
            "Collecting opensimplex\n",
            "  Downloading opensimplex-0.4.4-py3-none-any.whl (19 kB)\n",
            "Requirement already satisfied: numpy>=1.22 in /usr/local/lib/python3.9/dist-packages (from opensimplex) (1.22.4)\n",
            "Installing collected packages: opensimplex\n",
            "Successfully installed opensimplex-0.4.4\n",
            "Looking in indexes: https://pypi.org/simple, https://us-python.pkg.dev/colab-wheels/public/simple/\n",
            "Requirement already satisfied: scipy in /usr/local/lib/python3.9/dist-packages (1.10.1)\n",
            "Requirement already satisfied: numpy<1.27.0,>=1.19.5 in /usr/local/lib/python3.9/dist-packages (from scipy) (1.22.4)\n",
            "Looking in indexes: https://pypi.org/simple, https://us-python.pkg.dev/colab-wheels/public/simple/\n",
            "Requirement already satisfied: click in /usr/local/lib/python3.9/dist-packages (8.1.3)\n",
            "Requirement already satisfied: requests in /usr/local/lib/python3.9/dist-packages (2.27.1)\n",
            "Requirement already satisfied: tqdm in /usr/local/lib/python3.9/dist-packages (4.65.0)\n",
            "Requirement already satisfied: pyspng in /usr/local/lib/python3.9/dist-packages (0.1.1)\n",
            "Requirement already satisfied: ninja in /usr/local/lib/python3.9/dist-packages (1.11.1)\n",
            "Requirement already satisfied: imageio-ffmpeg==0.4.3 in /usr/local/lib/python3.9/dist-packages (0.4.3)\n",
            "Requirement already satisfied: charset-normalizer~=2.0.0 in /usr/local/lib/python3.9/dist-packages (from requests) (2.0.12)\n",
            "Requirement already satisfied: urllib3<1.27,>=1.21.1 in /usr/local/lib/python3.9/dist-packages (from requests) (1.26.15)\n",
            "Requirement already satisfied: certifi>=2017.4.17 in /usr/local/lib/python3.9/dist-packages (from requests) (2022.12.7)\n",
            "Requirement already satisfied: idna<4,>=2.5 in /usr/local/lib/python3.9/dist-packages (from requests) (3.4)\n",
            "Requirement already satisfied: numpy in /usr/local/lib/python3.9/dist-packages (from pyspng) (1.22.4)\n"
          ]
        }
      ]
    },
    {
      "cell_type": "code",
      "source": [
        "!python /content/drive/MyDrive/colab-sg2-ada/stylegan2-ada-pytorch/generate.py --help\n"
      ],
      "metadata": {
        "colab": {
          "base_uri": "https://localhost:8080/"
        },
        "id": "l-Qll2dW3K2d",
        "outputId": "920bbb0f-0503-4e9e-d161-773d609a2dbd"
      },
      "execution_count": null,
      "outputs": [
        {
          "output_type": "stream",
          "name": "stdout",
          "text": [
            "Usage: generate.py [OPTIONS]\n",
            "\n",
            "  Generate images using pretrained network pickle.\n",
            "\n",
            "  Examples:\n",
            "\n",
            "  # Generate curated MetFaces images without truncation (Fig.10 left)\n",
            "  python generate.py --outdir=out --trunc=1 --seeds=85,265,297,849 \\\n",
            "      --network=https://nvlabs-fi-cdn.nvidia.com/stylegan2-ada-pytorch/pretrained/metfaces.pkl\n",
            "\n",
            "  # Generate uncurated MetFaces images with truncation (Fig.12 upper left)\n",
            "  python generate.py --outdir=out --trunc=0.7 --seeds=600-605 \\\n",
            "      --network=https://nvlabs-fi-cdn.nvidia.com/stylegan2-ada-pytorch/pretrained/metfaces.pkl\n",
            "\n",
            "  # Generate class conditional CIFAR-10 images (Fig.17 left, Car)\n",
            "  python generate.py --outdir=out --seeds=0-35 --class=1 \\\n",
            "      --network=https://nvlabs-fi-cdn.nvidia.com/stylegan2-ada-pytorch/pretrained/cifar10.pkl\n",
            "\n",
            "  # Render an image from projected W\n",
            "  python generate.py --outdir=out --projected_w=projected_w.npz \\\n",
            "      --network=https://nvlabs-fi-cdn.nvidia.com/stylegan2-ada-pytorch/pretrained/metfaces.pkl\n",
            "\n",
            "Options:\n",
            "  --network TEXT                  Network pickle\n",
            "                                  filename\n",
            "                                  [required]\n",
            "  --seeds NUM_RANGE               List of random\n",
            "                                  seeds\n",
            "  --trunc FLOAT                   Truncation psi\n",
            "                                  [default: 1]\n",
            "  --class INTEGER                 Class label\n",
            "                                  (unconditional\n",
            "                                  if not\n",
            "                                  specified)\n",
            "  --noise-mode [const|random|none]\n",
            "                                  Noise mode\n",
            "                                  [default: const]\n",
            "  --projected-w FILE              Projection\n",
            "                                  result file\n",
            "  --outdir DIR                    Where to save\n",
            "                                  the output\n",
            "                                  images\n",
            "                                  [required]\n",
            "  --help                          Show this\n",
            "                                  message and\n",
            "                                  exit.\n"
          ]
        }
      ]
    },
    {
      "cell_type": "code",
      "source": [
        "!python /content/drive/MyDrive/colab-sg2-ada/stylegan2-ada-pytorch/generate.py  --trunc=1.5 --noise-mode='random' --seeds=1-100 --network=\"/content/drive/MyDrive/colab-sg2-ada/results/00011-Handbags-Preprocess-Data-png-auto1-gamma30-kimg5000-batch16-ada-bg-resumecustom/network-snapshot-000080.pkl\" --outdir='/content/drive/MyDrive/colab-sg2-ada/output'"
      ],
      "metadata": {
        "colab": {
          "base_uri": "https://localhost:8080/"
        },
        "id": "L4jE9vb99SgC",
        "outputId": "7d8fe8e7-258f-44c5-dc04-ff01e7a3e507"
      },
      "execution_count": null,
      "outputs": [
        {
          "output_type": "stream",
          "name": "stdout",
          "text": [
            "Loading networks from \"/content/drive/MyDrive/colab-sg2-ada/results/00011-Handbags-Preprocess-Data-png-auto1-gamma30-kimg5000-batch16-ada-bg-resumecustom/network-snapshot-000080.pkl\"...\n",
            "Generating image for seed 1 (0/100) ...\n",
            "Setting up PyTorch plugin \"bias_act_plugin\"... Done.\n",
            "Setting up PyTorch plugin \"upfirdn2d_plugin\"... Done.\n",
            "Generating image for seed 2 (1/100) ...\n",
            "Generating image for seed 3 (2/100) ...\n",
            "Generating image for seed 4 (3/100) ...\n",
            "Generating image for seed 5 (4/100) ...\n",
            "Generating image for seed 6 (5/100) ...\n",
            "Generating image for seed 7 (6/100) ...\n",
            "Generating image for seed 8 (7/100) ...\n",
            "Generating image for seed 9 (8/100) ...\n",
            "Generating image for seed 10 (9/100) ...\n",
            "Generating image for seed 11 (10/100) ...\n",
            "Generating image for seed 12 (11/100) ...\n",
            "Generating image for seed 13 (12/100) ...\n",
            "Generating image for seed 14 (13/100) ...\n",
            "Generating image for seed 15 (14/100) ...\n",
            "Generating image for seed 16 (15/100) ...\n",
            "Generating image for seed 17 (16/100) ...\n",
            "Generating image for seed 18 (17/100) ...\n",
            "Generating image for seed 19 (18/100) ...\n",
            "Generating image for seed 20 (19/100) ...\n",
            "Generating image for seed 21 (20/100) ...\n",
            "Generating image for seed 22 (21/100) ...\n",
            "Generating image for seed 23 (22/100) ...\n",
            "Generating image for seed 24 (23/100) ...\n",
            "Generating image for seed 25 (24/100) ...\n",
            "Generating image for seed 26 (25/100) ...\n",
            "Generating image for seed 27 (26/100) ...\n",
            "Generating image for seed 28 (27/100) ...\n",
            "Generating image for seed 29 (28/100) ...\n",
            "Generating image for seed 30 (29/100) ...\n",
            "Generating image for seed 31 (30/100) ...\n",
            "Generating image for seed 32 (31/100) ...\n",
            "Generating image for seed 33 (32/100) ...\n",
            "Generating image for seed 34 (33/100) ...\n",
            "Generating image for seed 35 (34/100) ...\n",
            "Generating image for seed 36 (35/100) ...\n",
            "Generating image for seed 37 (36/100) ...\n",
            "Generating image for seed 38 (37/100) ...\n",
            "Generating image for seed 39 (38/100) ...\n",
            "Generating image for seed 40 (39/100) ...\n",
            "Generating image for seed 41 (40/100) ...\n",
            "Generating image for seed 42 (41/100) ...\n",
            "Generating image for seed 43 (42/100) ...\n",
            "Generating image for seed 44 (43/100) ...\n",
            "Generating image for seed 45 (44/100) ...\n",
            "Generating image for seed 46 (45/100) ...\n",
            "Generating image for seed 47 (46/100) ...\n",
            "Generating image for seed 48 (47/100) ...\n",
            "Generating image for seed 49 (48/100) ...\n",
            "Generating image for seed 50 (49/100) ...\n",
            "Generating image for seed 51 (50/100) ...\n",
            "Generating image for seed 52 (51/100) ...\n",
            "Generating image for seed 53 (52/100) ...\n",
            "Generating image for seed 54 (53/100) ...\n",
            "Generating image for seed 55 (54/100) ...\n",
            "Generating image for seed 56 (55/100) ...\n",
            "Generating image for seed 57 (56/100) ...\n",
            "Generating image for seed 58 (57/100) ...\n",
            "Generating image for seed 59 (58/100) ...\n",
            "Generating image for seed 60 (59/100) ...\n",
            "Generating image for seed 61 (60/100) ...\n",
            "Generating image for seed 62 (61/100) ...\n",
            "Generating image for seed 63 (62/100) ...\n",
            "Generating image for seed 64 (63/100) ...\n",
            "Generating image for seed 65 (64/100) ...\n",
            "Generating image for seed 66 (65/100) ...\n",
            "Generating image for seed 67 (66/100) ...\n",
            "Generating image for seed 68 (67/100) ...\n",
            "Generating image for seed 69 (68/100) ...\n",
            "Generating image for seed 70 (69/100) ...\n",
            "Generating image for seed 71 (70/100) ...\n",
            "Generating image for seed 72 (71/100) ...\n",
            "Generating image for seed 73 (72/100) ...\n",
            "Generating image for seed 74 (73/100) ...\n",
            "Generating image for seed 75 (74/100) ...\n",
            "Generating image for seed 76 (75/100) ...\n",
            "Generating image for seed 77 (76/100) ...\n",
            "Generating image for seed 78 (77/100) ...\n",
            "Generating image for seed 79 (78/100) ...\n",
            "Generating image for seed 80 (79/100) ...\n",
            "Generating image for seed 81 (80/100) ...\n",
            "Generating image for seed 82 (81/100) ...\n",
            "Generating image for seed 83 (82/100) ...\n",
            "Generating image for seed 84 (83/100) ...\n",
            "Generating image for seed 85 (84/100) ...\n",
            "Generating image for seed 86 (85/100) ...\n",
            "Generating image for seed 87 (86/100) ...\n",
            "Generating image for seed 88 (87/100) ...\n",
            "Generating image for seed 89 (88/100) ...\n",
            "Generating image for seed 90 (89/100) ...\n",
            "Generating image for seed 91 (90/100) ...\n",
            "Generating image for seed 92 (91/100) ...\n",
            "Generating image for seed 93 (92/100) ...\n",
            "Generating image for seed 94 (93/100) ...\n",
            "Generating image for seed 95 (94/100) ...\n",
            "Generating image for seed 96 (95/100) ...\n",
            "Generating image for seed 97 (96/100) ...\n",
            "Generating image for seed 98 (97/100) ...\n",
            "Generating image for seed 99 (98/100) ...\n",
            "Generating image for seed 100 (99/100) ...\n"
          ]
        }
      ]
    },
    {
      "cell_type": "code",
      "source": [
        "!python /content/drive/MyDrive/colab-sg2-ada/stylegan2-ada-pytorch/calc_metrics.py --network='/content/drive/MyDrive/colab-sg2-ada/results/00006-Handbags-Preprocess-Data-png-auto1-gamma30-kimg5000-batch16-ada-bg-resumecustom/network-snapshot-000960.pkl' --metrics='kid50k_full'"
      ],
      "metadata": {
        "colab": {
          "base_uri": "https://localhost:8080/"
        },
        "id": "xmQcG-sAXRgE",
        "outputId": "92b2ed1a-36ca-411f-d214-c86e0eb15f17"
      },
      "execution_count": null,
      "outputs": [
        {
          "output_type": "stream",
          "name": "stdout",
          "text": [
            "Loading network from \"/content/drive/MyDrive/colab-sg2-ada/results/00006-Handbags-Preprocess-Data-png-auto1-gamma30-kimg5000-batch16-ada-bg-resumecustom/network-snapshot-000960.pkl\"...\n",
            "Dataset options:\n",
            "{\n",
            "  \"class_name\": \"training.dataset.ImageFolderDataset\",\n",
            "  \"path\": \"/content/drive/MyDrive/colab-sg2-ada/datasets/Handbags-Preprocess-Data-png\",\n",
            "  \"use_labels\": false,\n",
            "  \"max_size\": 6498,\n",
            "  \"xflip\": false,\n",
            "  \"resolution\": 256\n",
            "}\n",
            "Launching processes...\n",
            "Setting up PyTorch plugin \"bias_act_plugin\"... Done.\n",
            "Setting up PyTorch plugin \"upfirdn2d_plugin\"... Done.\n",
            "\n",
            "Generator             Parameters  Buffers  Output shape        Datatype\n",
            "---                   ---         ---      ---                 ---     \n",
            "mapping.fc0           262656      -        [1, 512]            float32 \n",
            "mapping.fc1           262656      -        [1, 512]            float32 \n",
            "mapping               -           512      [1, 14, 512]        float32 \n",
            "synthesis.b4.conv1    2622465     32       [1, 512, 4, 4]      float32 \n",
            "synthesis.b4.torgb    264195      -        [1, 3, 4, 4]        float32 \n",
            "synthesis.b4:0        8192        16       [1, 512, 4, 4]      float32 \n",
            "synthesis.b4:1        -           -        [1, 512, 4, 4]      float32 \n",
            "synthesis.b8.conv0    2622465     80       [1, 512, 8, 8]      float32 \n",
            "synthesis.b8.conv1    2622465     80       [1, 512, 8, 8]      float32 \n",
            "synthesis.b8.torgb    264195      -        [1, 3, 8, 8]        float32 \n",
            "synthesis.b8:0        -           16       [1, 512, 8, 8]      float32 \n",
            "synthesis.b8:1        -           -        [1, 512, 8, 8]      float32 \n",
            "synthesis.b16.conv0   2622465     272      [1, 512, 16, 16]    float32 \n",
            "synthesis.b16.conv1   2622465     272      [1, 512, 16, 16]    float32 \n",
            "synthesis.b16.torgb   264195      -        [1, 3, 16, 16]      float32 \n",
            "synthesis.b16:0       -           16       [1, 512, 16, 16]    float32 \n",
            "synthesis.b16:1       -           -        [1, 512, 16, 16]    float32 \n",
            "synthesis.b32.conv0   2622465     1040     [1, 512, 32, 32]    float16 \n",
            "synthesis.b32.conv1   2622465     1040     [1, 512, 32, 32]    float16 \n",
            "synthesis.b32.torgb   264195      -        [1, 3, 32, 32]      float16 \n",
            "synthesis.b32:0       -           16       [1, 512, 32, 32]    float16 \n",
            "synthesis.b32:1       -           -        [1, 512, 32, 32]    float32 \n",
            "synthesis.b64.conv0   1442561     4112     [1, 256, 64, 64]    float16 \n",
            "synthesis.b64.conv1   721409      4112     [1, 256, 64, 64]    float16 \n",
            "synthesis.b64.torgb   132099      -        [1, 3, 64, 64]      float16 \n",
            "synthesis.b64:0       -           16       [1, 256, 64, 64]    float16 \n",
            "synthesis.b64:1       -           -        [1, 256, 64, 64]    float32 \n",
            "synthesis.b128.conv0  426369      16400    [1, 128, 128, 128]  float16 \n",
            "synthesis.b128.conv1  213249      16400    [1, 128, 128, 128]  float16 \n",
            "synthesis.b128.torgb  66051       -        [1, 3, 128, 128]    float16 \n",
            "synthesis.b128:0      -           16       [1, 128, 128, 128]  float16 \n",
            "synthesis.b128:1      -           -        [1, 128, 128, 128]  float32 \n",
            "synthesis.b256.conv0  139457      65552    [1, 64, 256, 256]   float16 \n",
            "synthesis.b256.conv1  69761       65552    [1, 64, 256, 256]   float16 \n",
            "synthesis.b256.torgb  33027       -        [1, 3, 256, 256]    float16 \n",
            "synthesis.b256:0      -           16       [1, 64, 256, 256]   float16 \n",
            "synthesis.b256:1      -           -        [1, 64, 256, 256]   float32 \n",
            "---                   ---         ---      ---                 ---     \n",
            "Total                 23191522    175568   -                   -       \n",
            "\n",
            "Calculating kid50k_full...\n",
            "Downloading https://nvlabs-fi-cdn.nvidia.com/stylegan2-ada-pytorch/pretrained/metrics/inception-2015-12-05.pt ... done\n",
            "dataset features    items 1024    time 2m 14s       ms/item 130.80\n",
            "dataset features    items 2048    time 2m 17s       ms/item 3.44\n",
            "dataset features    items 3072    time 2m 21s       ms/item 3.46\n",
            "dataset features    items 4096    time 2m 25s       ms/item 3.48\n",
            "dataset features    items 5120    time 2m 28s       ms/item 3.48\n",
            "dataset features    items 6144    time 2m 32s       ms/item 3.50\n",
            "dataset features    items 6498    time 2m 34s       ms/item 6.54\n",
            "generator features  items 1024    time 13s          ms/item 12.62\n",
            "generator features  items 2048    time 25s          ms/item 12.00\n",
            "generator features  items 3072    time 38s          ms/item 12.15\n",
            "generator features  items 4096    time 50s          ms/item 12.33\n",
            "generator features  items 5120    time 1m 03s       ms/item 12.53\n",
            "generator features  items 6144    time 1m 16s       ms/item 12.60\n",
            "generator features  items 7168    time 1m 29s       ms/item 12.39\n",
            "generator features  items 8192    time 1m 41s       ms/item 12.29\n",
            "generator features  items 9216    time 1m 54s       ms/item 12.26\n",
            "generator features  items 10240   time 2m 06s       ms/item 12.29\n",
            "generator features  items 11264   time 2m 19s       ms/item 12.37\n",
            "generator features  items 12288   time 2m 32s       ms/item 12.42\n",
            "generator features  items 13312   time 2m 44s       ms/item 12.38\n",
            "generator features  items 14336   time 2m 57s       ms/item 12.33\n",
            "generator features  items 15360   time 3m 10s       ms/item 12.32\n",
            "generator features  items 16384   time 3m 22s       ms/item 12.36\n",
            "generator features  items 17408   time 3m 35s       ms/item 12.41\n",
            "generator features  items 18432   time 3m 48s       ms/item 12.37\n",
            "generator features  items 19456   time 4m 00s       ms/item 12.34\n",
            "generator features  items 20480   time 4m 13s       ms/item 12.33\n",
            "generator features  items 21504   time 4m 26s       ms/item 12.32\n",
            "generator features  items 22528   time 4m 38s       ms/item 12.34\n",
            "generator features  items 23552   time 4m 51s       ms/item 12.36\n",
            "generator features  items 24576   time 5m 04s       ms/item 12.37\n",
            "generator features  items 25600   time 5m 16s       ms/item 12.39\n",
            "generator features  items 26624   time 5m 29s       ms/item 12.38\n",
            "generator features  items 27648   time 5m 42s       ms/item 12.37\n",
            "generator features  items 28672   time 5m 54s       ms/item 12.36\n",
            "generator features  items 29696   time 6m 07s       ms/item 12.37\n",
            "generator features  items 30720   time 6m 20s       ms/item 12.37\n",
            "generator features  items 31744   time 6m 32s       ms/item 12.36\n",
            "generator features  items 32768   time 6m 45s       ms/item 12.35\n",
            "generator features  items 33792   time 6m 58s       ms/item 12.34\n",
            "generator features  items 34816   time 7m 10s       ms/item 12.34\n",
            "generator features  items 35840   time 7m 23s       ms/item 12.34\n",
            "generator features  items 36864   time 7m 35s       ms/item 12.34\n",
            "generator features  items 37888   time 7m 48s       ms/item 12.33\n",
            "generator features  items 38912   time 8m 01s       ms/item 12.35\n",
            "generator features  items 39936   time 8m 13s       ms/item 12.34\n",
            "generator features  items 40960   time 8m 26s       ms/item 12.33\n",
            "generator features  items 41984   time 8m 39s       ms/item 12.33\n",
            "generator features  items 43008   time 8m 51s       ms/item 12.32\n",
            "generator features  items 44032   time 9m 04s       ms/item 12.33\n",
            "generator features  items 45056   time 9m 16s       ms/item 12.32\n",
            "generator features  items 46080   time 9m 29s       ms/item 12.32\n",
            "generator features  items 47104   time 9m 42s       ms/item 12.34\n",
            "generator features  items 48128   time 9m 54s       ms/item 12.32\n",
            "generator features  items 49152   time 10m 07s      ms/item 12.34\n",
            "generator features  items 50000   time 10m 18s      ms/item 13.02\n",
            "{\"results\": {\"kid50k_full\": 0.002693995497998003}, \"metric\": \"kid50k_full\", \"total_time\": 811.1426954269409, \"total_time_str\": \"13m 31s\", \"num_gpus\": 1, \"snapshot_pkl\": \"network-snapshot-000960.pkl\", \"timestamp\": 1685295192.301983}\n",
            "\n",
            "Exiting...\n"
          ]
        }
      ]
    }
  ]
}